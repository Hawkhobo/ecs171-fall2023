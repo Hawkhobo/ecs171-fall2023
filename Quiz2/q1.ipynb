{
 "cells": [
  {
   "cell_type": "markdown",
   "id": "bd7ce386-473c-40b0-910f-2b6e6f69eff5",
   "metadata": {},
   "source": [
    "A patient with a positive test wants to know how probable it is to have flu. Find the probability given the information below and include your calculations. \n",
    "\n",
    "Prior probability: P(Flu=false) = 0.05\n",
    "Likelihood: P(Test=positive|Flu=true)=0.85\n",
    "Evidence: P(Test=negative) = 0.15"
   ]
  },
  {
   "cell_type": "markdown",
   "id": "c3ed9573-e084-46f8-9756-92f3c459a594",
   "metadata": {},
   "source": [
    "* A patient already HAS a positive test. This has happened. Now they, want to know how probability it is they also have the flu.\n",
    "* So the wording is \"Have the flu given that patient has a positive test\"\n",
    "* Given information can use Bayes Theorem"
   ]
  },
  {
   "cell_type": "markdown",
   "id": "734b6bf3-b406-4927-9d95-ecb2620cd29a",
   "metadata": {},
   "source": [
    "$P(Flu = true|Test = positive) = \\frac{P(Test = positive|Flue = true) * P(Test = Positive)}{P(Flue = True)}$"
   ]
  },
  {
   "cell_type": "markdown",
   "id": "2fd41423-5a8e-4039-87b6-ddf64bf02c14",
   "metadata": {},
   "source": [
    "* The other two values are not given, but can be computed since they are inverses of what is given"
   ]
  },
  {
   "cell_type": "markdown",
   "id": "5c0a5bbd-90a3-4aac-ab5f-4df458abff6c",
   "metadata": {},
   "source": [
    "$P(Flu = true|Test = positive) = \\frac{P(Test = positive|Flue = true) * (1 - P(Test = negative))}{(1 - P(Flue = false))}$"
   ]
  },
  {
   "cell_type": "code",
   "execution_count": 4,
   "id": "3d0bfcb9-c6c3-4bbc-b1ac-82669f81c202",
   "metadata": {
    "tags": []
   },
   "outputs": [
    {
     "name": "stdout",
     "output_type": "stream",
     "text": [
      " The probability the patient has a flue, given that they've tested positive, is: 0.76\n"
     ]
    }
   ],
   "source": [
    "flue_given_positive_test = (0.85 * (1 - 0.15)) / (1 - 0.05)\n",
    "print(f' The probability the patient has a flue, given that they\\'ve tested positive, is: {round(flue_given_positive_test, 2)}')"
   ]
  }
 ],
 "metadata": {
  "kernelspec": {
   "display_name": "Python 3 (ipykernel)",
   "language": "python",
   "name": "python3"
  },
  "language_info": {
   "codemirror_mode": {
    "name": "ipython",
    "version": 3
   },
   "file_extension": ".py",
   "mimetype": "text/x-python",
   "name": "python",
   "nbconvert_exporter": "python",
   "pygments_lexer": "ipython3",
   "version": "3.11.6"
  }
 },
 "nbformat": 4,
 "nbformat_minor": 5
}
